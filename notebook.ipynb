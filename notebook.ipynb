{
 "cells": [
  {
   "cell_type": "markdown",
   "metadata": {},
   "source": [
    "### Mencoba membuat RAG lokal dengan llama2 70B (CPU core I5).\n",
    "\n",
    "Kita buat file .env untuk simpan credential API dll selanjutnya declare model, tak hanya untuk llama2 tapi juga model OpenAI (melalui API) sebagai pembanding output <br>"
   ]
  },
  {
   "cell_type": "code",
   "execution_count": 9,
   "metadata": {},
   "outputs": [],
   "source": [
    "import os\n",
    "from dotenv import load_dotenv\n",
    "\n",
    "MODEL = \"llama2\"\n",
    "\n",
    "load_dotenv()\n",
    "OPENAI_API_KEY = os.getenv(\"OPENAI_KEY\")\n",
    "# MODEL = \"gpt-3.5-turbo\""
   ]
  },
  {
   "cell_type": "code",
   "execution_count": 17,
   "metadata": {},
   "outputs": [
    {
     "data": {
      "text/plain": [
       "'\\n\"Believe you can and you\\'re halfway there.\" - Theodore Roosevelt\\n\\nThis quote emphasizes the importance of self-belief and confidence in achieving our goals. It suggests that by having faith in ourselves and our abilities, we can overcome obstacles and reach our full potential. Remember, belief is the foundation of success, so have faith in yourself and your dreams!'"
      ]
     },
     "execution_count": 17,
     "metadata": {},
     "output_type": "execute_result"
    }
   ],
   "source": [
    "#from langchain_openai.chat_models import ChatOpenAI\n",
    "# from langchain_openai.embeddings import OpenAIEmbeddings\n",
    "from langchain_community.llms import Ollama\n",
    "from langchain_community.embeddings import OllamaEmbeddings\n",
    "\n",
    "# model = ChatOpenAI(openai_api_key=OPENAI_API_KEY, model=MODEL)\n",
    "model = Ollama(model=MODEL)\n",
    "embeddings = OllamaEmbeddings(model=MODEL)\n",
    "\n",
    "model.invoke(\"Give me a motivating quote\")"
   ]
  },
  {
   "cell_type": "markdown",
   "metadata": {},
   "source": [
    "Parsing respon dari model (untuk respon dari model GPT OPENAI)"
   ]
  },
  {
   "cell_type": "code",
   "execution_count": 16,
   "metadata": {},
   "outputs": [
    {
     "data": {
      "text/plain": [
       "'\\n\"Believe you can and you\\'re halfway there.\" - Theodore Roosevelt\\n\\nThis quote emphasizes the importance of belief in achieving success. It suggests that having faith in yourself and your abilities is crucial to making progress towards your goals. By believing in yourself, you are more likely to take action and work towards your objectives, which can ultimately lead to success. So, no matter what challenges you may be facing, remember this quote and have faith in yourself!'"
      ]
     },
     "execution_count": 16,
     "metadata": {},
     "output_type": "execute_result"
    }
   ],
   "source": [
    "from langchain_core.output_parsers import StrOutputParser\n",
    "\n",
    "parser = StrOutputParser()\n",
    "\n",
    "chain = model | parser \n",
    "chain.invoke(\"Give me a motivating quote\")"
   ]
  },
  {
   "cell_type": "markdown",
   "metadata": {},
   "source": [
    "Membuat template percakapan dengan menentukan context dan pertanyaan"
   ]
  },
  {
   "cell_type": "code",
   "execution_count": 12,
   "metadata": {},
   "outputs": [
    {
     "data": {
      "text/plain": [
       "'\\nAnswer the question based on the context below. If you can\\'t \\nanswer the question, reply \"Maaf, terkait ini Saya belum dapat memberikan Anda jawaban\".\\n\\nContext: Here is some context\\n\\nQuestion: Here is a question\\n'"
      ]
     },
     "execution_count": 12,
     "metadata": {},
     "output_type": "execute_result"
    }
   ],
   "source": [
    "from langchain.prompts import PromptTemplate\n",
    "\n",
    "template = \"\"\"\n",
    "Answer the question based on the context below. If you can't \n",
    "answer the question, reply \"Maaf, terkait ini Saya belum dapat memberikan Anda jawaban\".\n",
    "\n",
    "Context: {context}\n",
    "\n",
    "Question: {question}\n",
    "\"\"\"\n",
    "\n",
    "prompt = PromptTemplate.from_template(template)\n",
    "prompt.format(context=\"Here is some context\", question=\"Here is a question\")"
   ]
  },
  {
   "cell_type": "code",
   "execution_count": 22,
   "metadata": {},
   "outputs": [
    {
     "data": {
      "text/plain": [
       "\"Maaf, terkait ini Saya belum dapat memberikan Anda jawaban. As a virtual assistant, I don't have access to personal information or the ability to make assumptions about individuals based on their names or any other personal details. It is important to respect people's privacy and only share information that is publicly available or has been explicitly shared by the individual themselves. Is there anything else I can help you with?\""
      ]
     },
     "execution_count": 22,
     "metadata": {},
     "output_type": "execute_result"
    }
   ],
   "source": [
    "chain = prompt | model | parser\n",
    "\n",
    "chain.invoke({\"context\": \"Semua orang menyapa saya dengan panggilan Jhony Iskandar\", \n",
    "\"question\": \"Siapa namamu untuk saya sapa jika nanti kita bertemu'?\"})"
   ]
  },
  {
   "cell_type": "markdown",
   "metadata": {},
   "source": [
    "Load PDF dan split tiap lembar"
   ]
  },
  {
   "cell_type": "code",
   "execution_count": 19,
   "metadata": {},
   "outputs": [
    {
     "data": {
      "text/plain": [
       "[Document(metadata={'source': './letterC.pdf', 'page': 0}, page_content='Jurnal Ilm iah FENOMENA, Volume X V, Nomor 2, November 2017: 1665 -1673  \\n \\n \\n  \\n 1665  \\n FUNGSI BUKU LETTER C DESA  \\nDALAM KAITANNYA DENGAN BUKU KERAWANGAN DESA  \\nSEBAGAI LANDASAN YURIDIS DAN ALAT BUKTI AWAL  \\nATAS PENGAKUAN KEPEMILIKAN HAK ATAS TANAH  \\n \\nOleh :  Tedjo Asmo Sugeng, S.H., M.H.*   1 \\n \\nABSTRAK  \\nPengakuan Kepemilikan Hak Atas Tanah, dimana pun tanah itu \\nberada dan siapapun pemiliknya maka akan selalu ada dan \\ntercatat dalam riwayat tanah pada catatan  Buku Tanah Desa , yang \\nlebih dikenal ditiap -tiap Kantor Desa/Kantor Kelurahan  yaitu \\ndengan sebutan buku Letter C Desa dan Buku Kerawangan Desa.  \\nKedua Buku Tanah Desa tersebut sudah ada pada Zaman India – \\nBelanda dan sampai sekarang tetap dipakai sebagai Dokumen \\nNegara , yang disimpan di tiap -tiap Kantor Desa/Kantor \\nKelurahan . Kedua Buku Tanah Desa tersebut selalu berdampingan \\nkarena saling melengkap i.  \\nSebelum berlakunya Undang -Undang Pokok Agraria (UUP A) \\nsetiap terjadinya perubahan hak milik atas tanah /peralihan hak \\nmilik dari pemegang  hak kepada pihak lain, baik peralihan secara \\nhibah, wasiat, warisan atau jual beli dulunya pada saat itu selalu \\ndilakukan dihadapan Kepala Desa . Bila mana ada perubahan hak \\nmilik atas tanah karena ada peralihan hak milik dari pemegang  \\nhak kepada pihak lain, maka dalam Buku Letter C Desa status \\npemiliknya dan sebab -sebab perubahan akan dicatat dan dirubah \\natas nama pemi lik baru dan dalam Buku Kerawangan Des a akan \\ndicatat ulang Nomor Persil pemilik baru.  \\nBuku Letter C Desa memuat  data -data yuridis status pemilik tanah \\nyang menunjuk pada subjek hukumnya, sedangkan uraian \\nmengenai objek tanah tercatat dalam riwayat tanah p ada Buku \\nKerawangan Desa , yang memuat uraian lokasi/letak tanah, petak -\\npetak tanah, luas tanah, batas -batas tanah dan nomor pajak.  \\n                                                           \\n* Tedjo Asmo Sugeng , Dosen tetap Fakultas Hukum Universitas Abdurachman Saleh \\nSitubondo .'),\n",
       " Document(metadata={'source': './letterC.pdf', 'page': 1}, page_content='Jurnal Ilm iah FENOMENA, Volume X V, Nomor 2, November 2017: 1665 -1673  \\n \\n \\n  \\n 1666  \\n Sebelum berlakunya UUPA para pemilik tanah waktu itu bagi \\npemegang Surat Kutipan Letter C Desa dan pemegang Surat Koher \\nPeto k D dianggap sebagai pemilik tanah dan di Negara kita ini \\nkedua surat pemegang hak tersebut merupakan alat bukti \\npemilikan tanah.  \\nBerdasarkan uraian diatas maka kajian masalah dititik beratkan \\npada target luaran yang akan dicapai antara lain rumusan masala h \\nmeliputi  : \\nBagaimana fungsi buku Letter C Desa dalam kaitannya dengan \\nBuku Kerawanga n Desa. Dan Surat Kutipan  Letter C Desa serta \\nSurat Koher Petok D apakah dapat dijadikan landasan yuridis \\nuntuk pengajuan permohonan Sertifikat Tanah pada Kantor \\nBadan Pe rtanahan ?  \\nSemua catatan riwayat tanah dimana tanah itu berada dan siapa \\npemiliknya selalu ada dan tercatat dalam catatan riwayat tanah \\npada kedua Buku Tanah Desa. Karena Kedua Buku Tanah Desa \\ntersebut merupakan Dokumen Negara yang disimpan ditiap -tiap \\nKon tor Desa/Kantor Kelurahan, yang dapat berfungsi sebagai \\nlandasan hukum dan acuan pada setiap peralihan hak atas tanah \\ndan sebagai alat bukti awal dalam setiap pemprosesan peralihan \\nhak milik dari pemegang hak kepada orang/pihak lain.  \\nSedangkan Surat Lette r C Desa dan Surat Koher Petok D dibuat \\noleh Desa berd asarkan kedua Buku Tanah Desa. Surat kutipan \\nLetter C Desa dikeluarkan oleh Desa yang ditanda tangani oleh \\nKepala Desa dan berstempel Desa dibuat berdasarkan kutipan \\ndari Buku Letter C Desa. Dan uraian dalam   Surat Kutipan Letter \\nC Desa tercatat dalam Buku Kerawangan Desa (Mengenai Objek \\nTanahnya). Surat Koher Petok D dikeluarkan oleh Kepala Desa \\nberdasarkan kedua Buku Tanah Desa yang ditanda tangani oleh \\nKepala Desa  dan berstempel Desa serta diketahui dan disahkan \\noleh Camat Setempat . Sehingga dapat berfu ngsi sebagai landasan \\nyuridis dan alat bukti kepemilikan dalam pengajuan permohonan \\nSertifikat Tanah pada Kantor Pertanahan.1 \\n \\nKata Kunci : Buku Letter C Desa, Buku Kerawangan Desa.  \\n \\n                                                           \\n1 Andi Hamzah 1986 : 303 Kamus Hukum. Ghalia Indonesia. Jakarta'),\n",
       " Document(metadata={'source': './letterC.pdf', 'page': 2}, page_content='Jurnal Ilm iah FENOMENA, Volume X V, Nomor 2, November 2017: 1665 -1673  \\n \\n \\n  \\n 1667  \\n 1. PENDAHULUAN  \\nUntu k mengetahui status tanah , siapapun pemiliknya dan dimanapun \\ntanah itu berada serta berapapun Luas Tanahnya maka atas Ijin Kepala \\nDesa /Lurah dapat dilihat/dicek di dua Buku Tanah Desa.  (Andreas Lumme \\n2001 : 32)2 \\nBuku Letter C Desa, menunjuk pada pemilik tanah yang sebenarnya \\n(Subjeknya). Buku Kerawangan Desa, memuat uraian Buku Letter C Desa \\nyang menunjuk pada objek tanahnya . Antara lain memuat uraian riwayat \\ntanah , lokasi/letak tanah, petak -petak tanah, luas tanah, batas -batas tanah \\ndan nomor persil pemili k, nomor pajak bumi.  \\nSebelum berlakunya UUPA, waktu itu para pemilik tanah hanya \\nmemegang Surat Girik Tanah, Surat Rincik Tanah, Surat Ketitir Tanah (Istilah \\nJawa Tengah), Surat Kutipan Letter C Desa, Surat Koher Petok D (Istilah Jawa \\nTimur).  \\nIstilah tanah -tanah bekas Tanah Adat yang belum dikonfersi menjadi \\nsalah satu Tanah hak tertentu (Hak Milik – Hak Guna Bangunan – Hak Pakai – \\nHak Guna Usaha). Sebelum berlakunya UUPA istilahnya bermacam -macam \\nantara lain : Tanah -Tanah Ketitir yang dimaksud adalah pemeg ang hakny a \\nmemegang Surat Tanah Ketitir, Tanah Rincik (Pemegang haknya memegang \\nSurat Tanah Rincik) , Tanah Girik (Pemegang haknya memegang Surat Tanah \\nGirik) , Tanah Letter C yang dimaksud adalah Pemili knya memegang Surat \\nKutipan Letter C Desa, Tanah Petok D yang dimaksud adalah Pemegang \\nhaknya memegang Surat Koher Petok D.  Bahkan sampai sekarang \\ndimasyarakat masih diketemukan memegang Surat Kutipan Letter C Desa \\ndan ada juga dimasyarakat yang masih memegang Surat Koher Petok D yang \\nmasih belum di Sertifikat . Para pemegang hak milik atas Tanah sebagai mana \\ntersebut diatas diberi beban kewajiban membayar Pajak Tanah  dan setelah \\nberlakunya UUPA masih ada Buku Pajak sisa jaman dahulu yang ada ditiap -\\ntiap Kantor Desa/Kantor Kelurahan selain kedua Buku Tanah Desa  masih ada \\njuga Buku Register Pajak  Hasil Bumi/Buku Register Pajak Bumi dan \\nBangunan, isinya memuat Daftar Nama -Nama Wajib Pajak.  \\n \\n1.  Pengertian Hak Milik Terhadap Hak Atas Tanah  \\nMengenai pengertian hak milik ini diatur dalam pasal 20 ayat (1) \\nUndang -Unda ng No. 5 Tahun 1960 yaitu “Hak turun -temurun terkuat dan \\n                                                           \\n2 Andreas Lumme. 2001 : 32 Majalah Hukum Pro Justitia, Edisi Kedua Tahun X IX, Fakultas \\nhukum. universitas Parahyangan. Bandung'),\n",
       " Document(metadata={'source': './letterC.pdf', 'page': 3}, page_content='Jurnal Ilm iah FENOMENA, Volume X V, Nomor 2, November 2017: 1665 -1673  \\n \\n \\n  \\n 1668  \\n terpenuhi yang dapat dipunyai orang atas tanah, dengan mengingat \\nketentuan pasal 6 UUPA. ” Menurut Boedi Harsono : Mengatakan bahwa \\npengertian “turun -temurun” artinya hak milik tidak hanya dapat dipun yai \\noleh seseorang selama dia masih hidup, akan tetapi hak milik tersebut \\ndapat diteruskan oleh ahli warisnya apabila pemiliknya meninggal dunia.3 \\nKata “terkuat” mengandung pengertian bahwa hak milik itu tidak \\nmudah dihapus bila dibandingkan dengan hak -hak lainnya serta dapat \\ndipertahank an terhadap ganguan pihak lain. Kata “terpenuh” tersebut \\nmengandung pengertian sebagai berikut :  \\na.  Hak milik itu memberikan wewenang kepada pemiliknya yang paling \\nluas jika dibandingkan dengan hak yang lainnya, tidak dapat  diganggu \\ngugat akan tetapi harus memperhatikan fungsi sosial dari tanah itu \\nseperti yang tercantum dalam pasal 6 Undang -Undang Pokok Agraria.  \\nb.  Hak milik ini dapat menjadi hak induk dari hak -hak lain, artinya \\nseorang pemilik tanah bisa memberikan tanah kepada pihak lain \\ndengan hak -hak : menyewakan, membagi hasilkan, menggadaikan, \\nmenyerahkan tanah kepada orang lain denga n hak guna bangunan  \\natau hak pakai.  \\nc.  Dilihat dari peruntukkannya hak milik sifatnya tidak terbatas , artinya \\ndapat digunakan untuk us aha pertanian dan untuk bangunan, dan \\nsebagainya.  \\n \\n2.  Pengertian Hak Atas Tanah  \\nSedangkan pengertian hak atas tanah menurut UUPA seperti yang \\ntercantum dalam pasal 4 ayat (2) adalah sebagai berikut : “Hak -hak atas \\ntanah yang dimaksud dalam ayat (1) pasal ini memberi wewenang untuk \\nmempergunakan tanah yang bersangkutan, demikian pula tubuh bumi dan \\nair serta ruang diatasnya sekedar diperlukan untuk kepentingan yang \\nlangsung berhubungan dengan penggunaan tanah dalam batas -batas \\nmenurut Undang -Undang ini dan peraturan -peraturan hukum lain yang \\nlebih tinggi”. ( AP. Perlindungan II. 2001 : 206 ).4 \\n                                                           \\n3 Boedi Harsono. 1999, Hukum Agraria Nasional. Edisi Revisi. Djambatan. Jakarta  \\n \\n4 AP. Perlindungan II 2001 : 206 Pendaftaran Tanah di Indonesia, Cet Pertama Mandar Maju. \\nBandung'),\n",
       " Document(metadata={'source': './letterC.pdf', 'page': 4}, page_content='Jurnal Ilm iah FENOMENA, Volume X V, Nomor 2, November 2017: 1665 -1673  \\n \\n \\n  \\n 1669  \\n Berdasarkan pada pengertian hak atas tanah diatas, maka dapat \\ndiketahui bahwa antara pemegang hak atas tanah dengan tanah yang \\ndikuasainya terdapat suatu hubungan, diman a hak atas tanah memberikan \\nkewenangan kepada pemegang hak atas tanah untuk menggunakan dan \\nmengambil manfaat dari tanah yang dikuasainya. Akan tetapi, perlu \\ndiingat meskipun pemegang hak atas tanah diberi kewenangan penuh, \\nnamun harus tetap mengingat fung si sosial tanah seperti yang telah \\ntercantum dalam pasal 6 UUPA.  Menurut UUPA, hak atas tanah dibedakan \\nmenjadi beberapa golongan :  \\na.  Hak atas tanah bersifat tetap yaitu hak atas tanah yang dipertahankan \\nsepanjang Undang -Undang No. 5 Tahun 1960 tetap dib erlakukan.  \\nb.  Hak atas tanah yang bersifat sementara yaitu hak atas tanah yang \\npada hakekatnya tidak sesuai dengan jiwa hukum agraria nasional. \\nHak -hak tersebut diatur dalam pasal 53 UUPA yang meliputi hak \\ngadai, hak menumpang dan hak sewa tanah pertanian . \\nc.  Hak pengelolaan, hak ini ada setelah lahirnya Peraturan Menteri \\nAgraria No. 9 Tahun 1965 tentang Pelaksanaan Konversi Hak \\nPenguasaan Tanah Negara.  \\nBerdasarkan uraian tersebut diatas maka sebagai pemegang hak atas \\ntanah atau sebagai pemilik atas tanah  mempunyai kewenangan untuk \\nmenggunakan dan adapat memanfaatkan dari tanah yang dimiliki.  \\n \\n3.  Target Luaran Yang Akan Dicapai Dalam Jurnal Penelitian Ini :  \\na.  Fungsi buku Letter C Desa dalam kaitannya dengan Buku Kerawangan \\nDesa  \\nb.  Surat Kutipan Letter  C Desa dan Surat Koher Petok D merupakan bukti \\nawal hak kepemilikan atas tanah  \\nBerdasarkan uraian tersebut diatas maka rumusan masalah yang \\ndibahas dalam jurnal penelitian ini adalah lebih difokuskan pada target \\nluaran yang akan dicapai antara lain melipu ti rumusan masalah : \\nbagaiamana fungsi Buku Letter C Desa dalam kaitannya dengan Buku \\nKerawangan Desa  ? dan Surat Kutipan Letter C Desa serta Surat Koher \\nPetok D apakah dapat dijadikan landasan yuridis untuk pengajuan \\npermohonan Sertifikat Tanah pada Kanto r Badan Pertanahan ?  \\n \\n2. METODE PENELITIAN  \\nJenis penelitian ini mengguanakan teknik yuridis empiris karena lebih \\npeka dapat menyesuaikan dilapangan terhadap penerapan hukum (UUPA).'),\n",
       " Document(metadata={'source': './letterC.pdf', 'page': 5}, page_content='Jurnal Ilm iah FENOMENA, Volume X V, Nomor 2, November 2017: 1665 -1673  \\n \\n \\n  \\n 1670  \\n Metode analisanya menggunakan metode diskriptif  kwalitatif yang didukung \\ndengan teori studi pustaka berdasarkan pada data primer dan sekunder.  \\n \\n3. FUNGSI BUKU LETTER C DESA DALAM KAITANNYA DENGAN BUKU \\nKERAWANGAN DESA   \\nSebagaimana yang dikemukakan pada uraian sebelumnya bahwa pada \\ndasarnya ada 2 (dua) macam buku administrasi pen catatan tanah di tiap -tiap \\nKantor Desa/Kantor Kelurahan :  \\na. Buku Letter C Desa  \\nb. Buku Kerawangan Desa  \\n \\nKedua buku tersebut harus ada dan harus berdampingan dan harus \\nsaling melengkapi karena buku Letter C Desa menunjuk pada data -data \\nkepemilikan subjek sedang kan Buku Kerawangan Desa menunjuk pada objek \\ntanahnya yang memuat uraian :  \\na.  Letak posisi tanah atau letak lokasi tanah  \\nb.  Luas tanah  \\nc.  Batas -batas tanah  \\nd.  Atau petak -petak tanah  \\ne.  Nomor petok  \\nf.  Nomor persil  \\n \\nBuku Letter C Desa adalah buku tan ah yang memuat data -data \\nkepemilikan tanah yang berisi :  \\na.  Nama pemilik  \\nb.  Nomor urut pemilik  \\nc.  Nomor bagian persil  \\nd.  Kelas desa    \\ne.  Hal-hal menurut pajak bumi yang terdiri atas :  \\ni. Luas tanah hektar (ha) dan are (da)  \\nii. Nilai pajak R (rupiah) dan sen  (s) \\n f.  Sebab dan hal peruahan  \\n g.  Mengenai kepala desa yakni tanda tangan dan stempel.'),\n",
       " Document(metadata={'source': './letterC.pdf', 'page': 6}, page_content='Jurnal Ilm iah FENOMENA, Volume X V, Nomor 2, November 2017: 1665 -1673  \\n \\n \\n  \\n 1671  \\n Contoh :  \\n Nama : Pemilik lama / baru    Nomor Urut Pemilik :  \\nNomor dan \\nbagian persil  Kelas Desa  Menurut Daerah \\nPerijinan Pajak Bumi  Sebab \\ndan \\nperubaha\\nn Luas Tanah  Pajak  \\nHa Da R S \\n       \\n \\n \\n \\nNama Desa, Tgl, ..............................  \\n \\nMengetahui,  \\nKepala Desa / Kelurahan  \\nTtd \\nNama Kepala Desa  \\n \\nDi dalam keterangan ataupun contoh diatas terdapat kata “Persil” dan \\nkelas desa,  \\na)  Persil adalah suatu le tak tanah dalam pembagiannya atau disebut \\njuga (Blok) . Contoh :  \\n  Tanah dengan luas 1 hektar, atau tanah itu dibagi dengan \\nberbagai bagian yang pemiliknya berbeda, luas tanahnya \\nberbeda.  \\n \\nPersil 1  Persil 4  \\nPersil 2  Persil 5  Persil 6  Persil 7  Persil 3  \\n \\n b)  Kelas Desa adalah suatu kelas ta nah biasanya dipergunakan untuk  \\n  membedakan antara darat dan tanah sawah atau diantara tanah \\n yang produktif dan non produktif ini terjadi pada saat klasiran \\n beberapa tahun dulu.  \\n Contoh :  \\n (1)  Kelas d. I. d. II,  \\n  Adalah kelas ini digunakan untuk perumahan  \\n (2)  Kelas S.I, S.II  \\n    Adalah kelas ini digunakan untuk sawah dan pertanian .'),\n",
       " Document(metadata={'source': './letterC.pdf', 'page': 7}, page_content='Jurnal Ilm iah FENOMENA, Volume X V, Nomor 2, November 2017: 1665 -1673  \\n \\n \\n  \\n 1672  \\n  \\nSelanjutnya baik persil, kelas desa, luas tanah, besarnya pajak disebut \\ndidalam Buku Letter C Desa, Berarti pemilik tanah ini adala h seorang yang \\nmemiliki hak atas tanah tersebut dan berkewajiban membayar pajak.  \\nJadi Kedua Buku Tanah Desa tersebut dapat berfungsi sebagai \\nDokumen Negara yang dapat dijadikan landasan yuridis dan acuan pada \\nsetiap adanya perubahan hak kepemilikan atas ta nah/peralihan hak milik \\ndari pemegang hak kepada pihak lainnya.  \\n \\n4. KEDUDUKAN SURAT LETTER C DAN SURAT KOHER PETOK D \\nDALAM KAITANNYA DENGAN BUKU TANAH DESA  \\nKedua Surat tersebut diatas sebagai alat bukti pengakuan kepemilikian \\nhak atas tanah yang dikeluar kan oleh Desa berdasarkan catatan riwayat \\ntanah pada kedua Buku Tanah Desa :  \\n1.  Surat Letter C Desa dikeluarkan oleh Desa berdasarkan kutipan \\ndari Buku Letter C Desa yang ditanda tangani oleh Kepala Desa \\ndan berstempel Desa  \\n2.  Surat Koher Petok D dikelu arkan oleh Desa yang memuat catatan \\nhak kepemilikan berdasarkan Buku Tanah Desa yang ditanda \\ntangani oleh Kepala Desa berstempel Desa dan disahkan oleh \\nCamat Setempat.  \\n \\nSebelum berlakunya UUPA pemegang hak milik atas tanah yang \\ntercantum nama pemiliknya pa da masing -masing kedua surat tersebut diata, \\nkedudukannya adalah sebagai pemilik tanah sehingga Surat Kutipan Letter C \\nDesa dan Surat Koher Petok D (yang belum di Sertifikat) dapat dijadikan \\nsebagai alat bukti awal dalam pengajuan permohonan Sertifikat Tan ah pada \\nKantor Badan Pertanahan, sepanjang tidak ada pembuktian alat bukti lainnya \\nsebagai pembanding dalam pengakuan hak milik atas tanah oleh pihak \\nlainnya.  \\n \\n Syarat -Syarat Pengajuan Permohonan Sertifikat  \\n1. Fotokopi KTP pemohon.  \\n2. Fotokopi Kartu Keluarga pe mohon.  \\n3. Membawa bukti perolehan tanah.  \\n4. Fotokopi bukti pembayaran PBB tahun terakhir.  \\n5. Fotokopi NPWP.  \\n6. Pernyataan tanah tidak sengketa dari Kantor Desa.'),\n",
       " Document(metadata={'source': './letterC.pdf', 'page': 8}, page_content='Jurnal Ilm iah FENOMENA, Volume X V, Nomor 2, November 2017: 1665 -1673  \\n \\n \\n  \\n 1673  \\n 5. PENUTUP  \\nFungsi Buku Letter C Desa dalam kaitannya dengan Buku Kerawangan \\nDesa sebagai Dokumen Negara yan g dapat berfungsi sebagai landasan yuridis \\ndan acuan dalam setiap perubahan pada peralihan hak milik atas tanah \\nkepada pihak lainnya . Pemegang hak milik atas tanah yang berupa Surat \\nKutipan Letter C Desa atau Surat Koher Petok D adalah dapat dijadikan dasa r \\nbukti awal dalam pengajuan permohonan Sertifikat Tanah pada Kantor \\nBadan Pertanahan  \\n   \\n6. DAFTAR PUSTAKA  \\n \\nAndi Hamzah 1986, Kamus Hukum. Ghalia Indonesia. Jakarta  \\n \\nAndreas Lumme. 2001, Majalah Hukum Pro Justitia, Edisi Kedua Tahun XIX, \\nFakultas hukum. un iversitas Parahyangan. Bandung  \\n \\nAP. Perlindungan II 2001, Pendaftaran Tanah di Indonesia, Cet Pertama \\nMandar Maju. Bandung  \\n \\nBoedi Harsono. 1999, Hukum Agraria Nasional. Edisi Revisi. Djambatan. \\nJakarta  \\n \\nUndang -Undang Pokok Agraria Nomor 5 Tahun 1960 besert a aturan \\npelaksanaanya .')]"
      ]
     },
     "execution_count": 19,
     "metadata": {},
     "output_type": "execute_result"
    }
   ],
   "source": [
    "from langchain_community.document_loaders import PyPDFLoader\n",
    "\n",
    "loader = PyPDFLoader(\"./letterC.pdf\")\n",
    "pages = loader.load_and_split()\n",
    "pages"
   ]
  },
  {
   "cell_type": "code",
   "execution_count": 20,
   "metadata": {},
   "outputs": [],
   "source": [
    "from langchain_community.vectorstores import DocArrayInMemorySearch\n",
    "\n",
    "vectorstore = DocArrayInMemorySearch.from_documents(pages, embedding=embeddings)"
   ]
  },
  {
   "cell_type": "code",
   "execution_count": 21,
   "metadata": {},
   "outputs": [
    {
     "data": {
      "text/plain": [
       "[Document(metadata={'source': './letterC.pdf', 'page': 8}, page_content='Jurnal Ilm iah FENOMENA, Volume X V, Nomor 2, November 2017: 1665 -1673  \\n \\n \\n  \\n 1673  \\n 5. PENUTUP  \\nFungsi Buku Letter C Desa dalam kaitannya dengan Buku Kerawangan \\nDesa sebagai Dokumen Negara yan g dapat berfungsi sebagai landasan yuridis \\ndan acuan dalam setiap perubahan pada peralihan hak milik atas tanah \\nkepada pihak lainnya . Pemegang hak milik atas tanah yang berupa Surat \\nKutipan Letter C Desa atau Surat Koher Petok D adalah dapat dijadikan dasa r \\nbukti awal dalam pengajuan permohonan Sertifikat Tanah pada Kantor \\nBadan Pertanahan  \\n   \\n6. DAFTAR PUSTAKA  \\n \\nAndi Hamzah 1986, Kamus Hukum. Ghalia Indonesia. Jakarta  \\n \\nAndreas Lumme. 2001, Majalah Hukum Pro Justitia, Edisi Kedua Tahun XIX, \\nFakultas hukum. un iversitas Parahyangan. Bandung  \\n \\nAP. Perlindungan II 2001, Pendaftaran Tanah di Indonesia, Cet Pertama \\nMandar Maju. Bandung  \\n \\nBoedi Harsono. 1999, Hukum Agraria Nasional. Edisi Revisi. Djambatan. \\nJakarta  \\n \\nUndang -Undang Pokok Agraria Nomor 5 Tahun 1960 besert a aturan \\npelaksanaanya .'),\n",
       " Document(metadata={'source': './letterC.pdf', 'page': 0}, page_content='Jurnal Ilm iah FENOMENA, Volume X V, Nomor 2, November 2017: 1665 -1673  \\n \\n \\n  \\n 1665  \\n FUNGSI BUKU LETTER C DESA  \\nDALAM KAITANNYA DENGAN BUKU KERAWANGAN DESA  \\nSEBAGAI LANDASAN YURIDIS DAN ALAT BUKTI AWAL  \\nATAS PENGAKUAN KEPEMILIKAN HAK ATAS TANAH  \\n \\nOleh :  Tedjo Asmo Sugeng, S.H., M.H.*   1 \\n \\nABSTRAK  \\nPengakuan Kepemilikan Hak Atas Tanah, dimana pun tanah itu \\nberada dan siapapun pemiliknya maka akan selalu ada dan \\ntercatat dalam riwayat tanah pada catatan  Buku Tanah Desa , yang \\nlebih dikenal ditiap -tiap Kantor Desa/Kantor Kelurahan  yaitu \\ndengan sebutan buku Letter C Desa dan Buku Kerawangan Desa.  \\nKedua Buku Tanah Desa tersebut sudah ada pada Zaman India – \\nBelanda dan sampai sekarang tetap dipakai sebagai Dokumen \\nNegara , yang disimpan di tiap -tiap Kantor Desa/Kantor \\nKelurahan . Kedua Buku Tanah Desa tersebut selalu berdampingan \\nkarena saling melengkap i.  \\nSebelum berlakunya Undang -Undang Pokok Agraria (UUP A) \\nsetiap terjadinya perubahan hak milik atas tanah /peralihan hak \\nmilik dari pemegang  hak kepada pihak lain, baik peralihan secara \\nhibah, wasiat, warisan atau jual beli dulunya pada saat itu selalu \\ndilakukan dihadapan Kepala Desa . Bila mana ada perubahan hak \\nmilik atas tanah karena ada peralihan hak milik dari pemegang  \\nhak kepada pihak lain, maka dalam Buku Letter C Desa status \\npemiliknya dan sebab -sebab perubahan akan dicatat dan dirubah \\natas nama pemi lik baru dan dalam Buku Kerawangan Des a akan \\ndicatat ulang Nomor Persil pemilik baru.  \\nBuku Letter C Desa memuat  data -data yuridis status pemilik tanah \\nyang menunjuk pada subjek hukumnya, sedangkan uraian \\nmengenai objek tanah tercatat dalam riwayat tanah p ada Buku \\nKerawangan Desa , yang memuat uraian lokasi/letak tanah, petak -\\npetak tanah, luas tanah, batas -batas tanah dan nomor pajak.  \\n                                                           \\n* Tedjo Asmo Sugeng , Dosen tetap Fakultas Hukum Universitas Abdurachman Saleh \\nSitubondo .'),\n",
       " Document(metadata={'source': './letterC.pdf', 'page': 3}, page_content='Jurnal Ilm iah FENOMENA, Volume X V, Nomor 2, November 2017: 1665 -1673  \\n \\n \\n  \\n 1668  \\n terpenuhi yang dapat dipunyai orang atas tanah, dengan mengingat \\nketentuan pasal 6 UUPA. ” Menurut Boedi Harsono : Mengatakan bahwa \\npengertian “turun -temurun” artinya hak milik tidak hanya dapat dipun yai \\noleh seseorang selama dia masih hidup, akan tetapi hak milik tersebut \\ndapat diteruskan oleh ahli warisnya apabila pemiliknya meninggal dunia.3 \\nKata “terkuat” mengandung pengertian bahwa hak milik itu tidak \\nmudah dihapus bila dibandingkan dengan hak -hak lainnya serta dapat \\ndipertahank an terhadap ganguan pihak lain. Kata “terpenuh” tersebut \\nmengandung pengertian sebagai berikut :  \\na.  Hak milik itu memberikan wewenang kepada pemiliknya yang paling \\nluas jika dibandingkan dengan hak yang lainnya, tidak dapat  diganggu \\ngugat akan tetapi harus memperhatikan fungsi sosial dari tanah itu \\nseperti yang tercantum dalam pasal 6 Undang -Undang Pokok Agraria.  \\nb.  Hak milik ini dapat menjadi hak induk dari hak -hak lain, artinya \\nseorang pemilik tanah bisa memberikan tanah kepada pihak lain \\ndengan hak -hak : menyewakan, membagi hasilkan, menggadaikan, \\nmenyerahkan tanah kepada orang lain denga n hak guna bangunan  \\natau hak pakai.  \\nc.  Dilihat dari peruntukkannya hak milik sifatnya tidak terbatas , artinya \\ndapat digunakan untuk us aha pertanian dan untuk bangunan, dan \\nsebagainya.  \\n \\n2.  Pengertian Hak Atas Tanah  \\nSedangkan pengertian hak atas tanah menurut UUPA seperti yang \\ntercantum dalam pasal 4 ayat (2) adalah sebagai berikut : “Hak -hak atas \\ntanah yang dimaksud dalam ayat (1) pasal ini memberi wewenang untuk \\nmempergunakan tanah yang bersangkutan, demikian pula tubuh bumi dan \\nair serta ruang diatasnya sekedar diperlukan untuk kepentingan yang \\nlangsung berhubungan dengan penggunaan tanah dalam batas -batas \\nmenurut Undang -Undang ini dan peraturan -peraturan hukum lain yang \\nlebih tinggi”. ( AP. Perlindungan II. 2001 : 206 ).4 \\n                                                           \\n3 Boedi Harsono. 1999, Hukum Agraria Nasional. Edisi Revisi. Djambatan. Jakarta  \\n \\n4 AP. Perlindungan II 2001 : 206 Pendaftaran Tanah di Indonesia, Cet Pertama Mandar Maju. \\nBandung'),\n",
       " Document(metadata={'source': './letterC.pdf', 'page': 5}, page_content='Jurnal Ilm iah FENOMENA, Volume X V, Nomor 2, November 2017: 1665 -1673  \\n \\n \\n  \\n 1670  \\n Metode analisanya menggunakan metode diskriptif  kwalitatif yang didukung \\ndengan teori studi pustaka berdasarkan pada data primer dan sekunder.  \\n \\n3. FUNGSI BUKU LETTER C DESA DALAM KAITANNYA DENGAN BUKU \\nKERAWANGAN DESA   \\nSebagaimana yang dikemukakan pada uraian sebelumnya bahwa pada \\ndasarnya ada 2 (dua) macam buku administrasi pen catatan tanah di tiap -tiap \\nKantor Desa/Kantor Kelurahan :  \\na. Buku Letter C Desa  \\nb. Buku Kerawangan Desa  \\n \\nKedua buku tersebut harus ada dan harus berdampingan dan harus \\nsaling melengkapi karena buku Letter C Desa menunjuk pada data -data \\nkepemilikan subjek sedang kan Buku Kerawangan Desa menunjuk pada objek \\ntanahnya yang memuat uraian :  \\na.  Letak posisi tanah atau letak lokasi tanah  \\nb.  Luas tanah  \\nc.  Batas -batas tanah  \\nd.  Atau petak -petak tanah  \\ne.  Nomor petok  \\nf.  Nomor persil  \\n \\nBuku Letter C Desa adalah buku tan ah yang memuat data -data \\nkepemilikan tanah yang berisi :  \\na.  Nama pemilik  \\nb.  Nomor urut pemilik  \\nc.  Nomor bagian persil  \\nd.  Kelas desa    \\ne.  Hal-hal menurut pajak bumi yang terdiri atas :  \\ni. Luas tanah hektar (ha) dan are (da)  \\nii. Nilai pajak R (rupiah) dan sen  (s) \\n f.  Sebab dan hal peruahan  \\n g.  Mengenai kepala desa yakni tanda tangan dan stempel.')]"
      ]
     },
     "execution_count": 21,
     "metadata": {},
     "output_type": "execute_result"
    }
   ],
   "source": [
    "retriever = vectorstore.as_retriever()\n",
    "retriever.invoke(\"letterC\")"
   ]
  }
 ],
 "metadata": {
  "kernelspec": {
   "display_name": "Python 3",
   "language": "python",
   "name": "python3"
  },
  "language_info": {
   "codemirror_mode": {
    "name": "ipython",
    "version": 3
   },
   "file_extension": ".py",
   "mimetype": "text/x-python",
   "name": "python",
   "nbconvert_exporter": "python",
   "pygments_lexer": "ipython3",
   "version": "3.12.5"
  }
 },
 "nbformat": 4,
 "nbformat_minor": 2
}
