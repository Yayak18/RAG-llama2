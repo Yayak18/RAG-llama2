{
 "cells": [
  {
   "cell_type": "markdown",
   "metadata": {},
   "source": [
    "### Mencoba membuat RAG lokal dengan llama2 70B diatas laptop core I5.\n",
    "\n",
    "Kita buat file .env untuk simpan credential API dll selanjutnya declare model, tak hanya untuk llama2 tapi juga model OpenAI (melalui API) sebagai pembanding output <br>"
   ]
  },
  {
   "cell_type": "code",
   "execution_count": 1,
   "metadata": {},
   "outputs": [],
   "source": [
    "import os\n",
    "from dotenv import load_dotenv\n",
    "\n",
    "MODEL = \"llama2\"\n",
    "\n",
    "load_dotenv()\n",
    "OPENAI_API_KEY = os.getenv(\"OPENAI_KEY\")\n",
    "# MODEL = \"gpt-3.5-turbo\"\n",
    "\n",
    "# MODEL = \"mixtral:8x7b\"\n"
   ]
  },
  {
   "cell_type": "code",
   "execution_count": 2,
   "metadata": {},
   "outputs": [
    {
     "data": {
      "text/plain": [
       "\"Sure, here's one:\\n\\nWhy don't scientists trust atoms?\\nBecause they make up everything!\\n\\nI hope that made you smile!\""
      ]
     },
     "execution_count": 2,
     "metadata": {},
     "output_type": "execute_result"
    }
   ],
   "source": [
    "#from langchain_openai.chat_models import ChatOpenAI\n",
    "# from langchain_openai.embeddings import OpenAIEmbeddings\n",
    "from langchain_community.llms import Ollama\n",
    "from langchain_community.embeddings import OllamaEmbeddings\n",
    "\n",
    "\n",
    "# model = ChatOpenAI(openai_api_key=OPENAI_API_KEY, model=MODEL)\n",
    "model = Ollama(model=MODEL)\n",
    "embeddings = OllamaEmbeddings(model=MODEL)\n",
    "\n",
    "model.invoke(\"Tell me a joke\")"
   ]
  },
  {
   "cell_type": "code",
   "execution_count": 3,
   "metadata": {},
   "outputs": [
    {
     "data": {
      "text/plain": [
       "'\\nWhy was the math book sad?\\n\\nBecause it had too many problems!'"
      ]
     },
     "execution_count": 3,
     "metadata": {},
     "output_type": "execute_result"
    }
   ],
   "source": [
    "from langchain_core.output_parsers import StrOutputParser\n",
    "\n",
    "parser = StrOutputParser()\n",
    "\n",
    "chain = model | parser \n",
    "chain.invoke(\"Tell me a joke\")"
   ]
  },
  {
   "cell_type": "code",
   "execution_count": 4,
   "metadata": {},
   "outputs": [
    {
     "data": {
      "text/plain": [
       "'\\nAnswer the question based on the context below. If you can\\'t \\nanswer the question, reply \"I don\\'t know\".\\n\\nContext: Here is some context\\n\\nQuestion: Here is a question\\n'"
      ]
     },
     "execution_count": 4,
     "metadata": {},
     "output_type": "execute_result"
    }
   ],
   "source": [
    "from langchain.prompts import PromptTemplate\n",
    "\n",
    "template = \"\"\"\n",
    "Answer the question based on the context below. If you can't \n",
    "answer the question, reply \"I don't know\".\n",
    "\n",
    "Context: {context}\n",
    "\n",
    "Question: {question}\n",
    "\"\"\"\n",
    "\n",
    "prompt = PromptTemplate.from_template(template)\n",
    "prompt.format(context=\"Here is some context\", question=\"Here is a question\")"
   ]
  },
  {
   "cell_type": "code",
   "execution_count": 5,
   "metadata": {},
   "outputs": [
    {
     "data": {
      "text/plain": [
       "' Sure! Based on the context provided, the answer to the question \"What\\'s your name?\" would be \"Jhony Iskandar.\"'"
      ]
     },
     "execution_count": 5,
     "metadata": {},
     "output_type": "execute_result"
    }
   ],
   "source": [
    "chain = prompt | model | parser\n",
    "\n",
    "chain.invoke({\"context\": \"My parents named me Jhony Iskandar\", \"question\": \"What's your name'?\"})"
   ]
  },
  {
   "cell_type": "code",
   "execution_count": 6,
   "metadata": {},
   "outputs": [
    {
     "data": {
      "text/plain": [
       "[Document(metadata={'source': './pengumuman.pdf', 'page': 0}, page_content='P  E  N  G  U  M  U  M  A  N \\nNOMOR :  800.1.2.6/   02  /PANSEL -JPT/20 24 \\n \\nTENTANG  \\nSELEKSI TERBUKA PENGISIAN J ABATAN PIMPINAN TINGGI PRATAMA  \\n DI LINGKUNGAN PEMERINTAH KABUPATEN PROBOLINGGO  \\nTAHUN 20 24 \\n \\nDalam rangka Pengisian Jabatan Pimpinan Tinggi Pratama di Lingkungan Pemerintah  \\nKabupaten Probolinggo  Tahun 2024, sesuai Undang -Undang Nomor 20 Tahun 2023 tentang \\nAparatur Sipil Negara, Peraturan Pemerintah Nomor 11 Tahun 2017 ten tang Manajemen Pegawai \\nNegeri Sipil  sebagaimana telah diubah dengan Peraturan  Pemerintah Nomor 17 Tahun 2020, \\nPeraturan Menteri  Pendayag unaan Aparatur Negara dan Reformasi Birokrasi  Nomor 15 Tahun 2019 \\ntentang  Pengisian Jabatan Pimpinan Tinggi Pratama secara terbuka dan kompetitif di Lingkungan \\nInstansi Pemerintah , maka Pemerintah Kabupaten Probolinggo membuka  kesempatan  kepada \\nPegawai Negeri Sipil  di Lingkungan Pemerintah Kabupaten /Kota  dalam Provinsi Jawa Timur ,  \\nPegawai Negeri Sipil di Lingkungan  Pemerintah Provinsi Jawa Timur  atau instansi lainnya  yang \\nberminat dan memenuhi sy arat untuk mendaftarkan dir i sebagai peserta pada Seleksi Terbuka \\nPengisian Jabatan  Pimpinan Tinggi Pratama di Lingkungan Pemerintah Kabupaten Probolinggo \\nTahun 2024, dengan ketentuan sebagai berikut  : \\n \\nA. FORMASI JABATAN LOWONG  \\n1. Staf Ahli Bidang Ekonomi dan Keuangan Sekretariat Daerah Kabupaten Probolinggo;  \\n2. Staf Ahli Bidang Hukum, Pemerintahan dan Pembangunan Sekretariat Daerah Kabupaten \\nProbolinggo;  \\n3. Staf Ahli Bidang Kemasyarakatan  dan SDM Sekretariat Daerah Kabupaten Probolinggo;  \\n4. Inspektur Kabupaten Probolin ggo; \\n5. Kepala Dinas Komunikas i, Informatika, Statistik dan Pe rsandian Kabupaten Probo linggo;  \\n6. Kepala Dinas Perumahan, Kawasan Permukiman dan Pertanahan Kabupaten Probolinggo;  \\n7. Kepala Dinas Sosial Kabupaten Probolinggo;  \\n8. Kepala Dinas Kepemudaan, Olah Raga dan Pariwisata  Kabupaten Probolinggo ; \\n9. Kepala Dinas Kesehatan Kabupaten Probolinggo; dan  \\n10. Direktur Unit Organisasi Bersifat Khusus Rumah Sakit Umum Daerah Waluyo Jati \\nKabupaten Proboli nggo. \\n \\nB. PERSYARATAN UMUM  \\n1. Warga Negara Indonesia;  \\n2. Berstatus  Pegawai Negeri Sipil di Lingkungan Kabupaten Pro bolinggo, Pemerintah \\nPEMERINTAH KABUPATEN PROBOLINGGO  \\nPANITIA SELEKSI TERBUKA  \\nPENGISIAN JABATAN PIMPINAN TINGGI PRATAMA  \\nJalan Raya Panglima Sudirman No. 134 Telp.  (0335) 840155 3 \\nKOTA KRAKSAAN - KABUPATEN PROBOLINGGO Kode Pos 67282  \\nWebsite : www.bk psdm .probolinggokab.go.id , E-mail : bkpsdm @probolinggokab.go.id'),\n",
       " Document(metadata={'source': './pengumuman.pdf', 'page': 1}, page_content='Kabupaten/K ota dalam Provinsi Jawa Timur , di Lingkungan Pemerintah Provinsi Jawa \\nTimur , atau instansi lainnya;  \\n3. Memiliki kualifikasi pendidikan paling rend ah Strata I (S .1) atau Diploma IV (D .IV); \\n4. Sedang atau pernah menduduki jabatan Administrator (Jabatan Struktural Eselon III.a) \\nsecara kumulatif minimal selama 2 (dua) tahun atau Jabatan Administrator (Jabatan \\nStruktural Eselon III. b) secara kumulatif minimal selama 3 (tiga) tahun atau Jabatan \\nFungsional jenja ng Ahli Madya secara kumula tif minimal selama 2 (dua) tahun ; \\n5. Memiliki Pangkat (Golongan/Ruang) paling rendah Pembina, (IV/a);  \\n6. Berusia paling tinggi 56 (lima puluh enam) tahun  0 (nol) bulan pada tang gal 28 Juni 2024; \\n7. Diutamakan bagi yang telah mengikuti dan dinyatakan lulus Pelatihan Kepemimpinan \\nAdministrator  atau yang setara bagi Pelamar yang berasal dari Pe jabat Administrator \\n(Jabatan Struktural Eselon III.a dan III.b ); \\n8. Memiliki Kompetensi Teknis, Kompetens i Manajerial, dan Kompetensi Sosial Kultural \\nsesu ai dengan Standar  kompetensi jabatan yang ditetapkan;  \\n9. Memil iki pengalaman Jabatan dalam bidang tugas yang terkait dengan Jabatan yang akan \\ndiduduki secara kumulatif paling kurang selama 5 (lima) tahun ; \\n10. Memiliki R ekam Jejak jabatan, integritas, dan moralitas yan g baik , yang dibuktikan denga n: \\na. Dokumen Evaluasi Kinerja Pegawai / Sasaran  Kinerja Pegawai  tahun 2022 dan tahun \\n2023  minimal bernilai baik ; \\nb. Surat keterangan t idak sedang menjalani hukuman disiplin, baik tingkat sedang \\nmaupun berat dan/atau tidak  sedan g dalam proses pemeriksaan pelanggaran disiplin, \\nbaik tingk at sedang maupun berat;  \\nc. Surat Pernyataan  tidak pernah dijatuhi hukuman pidana dengan status sebagai \\ntersangka atau t erdakwa ata u tidak sedang menjalani proses perka ra pidana ; \\nd. Tanda bukti  Laporan Harta Kekaya an Penyelengg ara Negara (LH KPN) tahun 2023 \\nbagi pejabat wajib lapor LHKPN atau Bukti Penerimaan Elektronik (BPE)  sebaga i \\ntanda pelaporan Surat Pemberitahuan (SPT) Tahunan tahun 2023  bagi pejabat non \\nwajib lapor LHKPN ; \\ne. Surat persetujuan atau rekomendasi tertulis dari Pejabat Pembina Kepeg awaian  \\ninstansin ya; \\nf. Surat pe rnyataan  Pakta Integritas yang telah ditandatangani oleh pelamar . \\n11. Bagi peserta yang masuk dalam 3 (tiga) orang calon JPT Pratama terbaik  harus \\nmenyerahkan Surat Keterangan Sehat Jasmani, Rohani da n surat keterangan bebas \\nnarkoba  dari Dokter  Pemerintah  paling lambat tanggal 7 Maret 2024  kepa da Sekretariat \\nPansel . \\n \\nC. TATA CARA  PENDAFTARAN  DAN KELENGKAPAN DOKUMEN  \\n1. Pengumuman dilaksanakan mulai tanggal 22 Januari 2024  sampai dengan  5 Februari  2024 \\nsecara online  pada website  Pemerintah Kabupaten Probolinggo dengan alamat \\nhttps://probolinggokab .go.id   dan websi te Badan Kepegawaian dan Pengembangan Sumb er \\nDaya Manusia Kabupaten  Probolingg o dengan alam at https://bkpsdm.probolinggokab.go .id; \\n2. Pelamar melakukan pendaftaran di Sekretari at Panitia Seleksi Terbuka Pengisian Jabatan'),\n",
       " Document(metadata={'source': './pengumuman.pdf', 'page': 2}, page_content='Pimpinan Ting gi Pratama di Lingkungan Pemerintah Kabupaten Probolinggo (Badan \\nKepe gawaian dan Penge mbangan Sumber Daya Manusia Kabupaten Probolinggo) dengan \\nalamat Jl. Raya Panglima Sud irman No. 134 , Lantai 2 Kantor Bupati Proboling go dimulai \\ntanggal 22 Januari  2024 sampai dengan 5 Febr uari 2024 pukul 0 8.00 s.d.16.00 WIB ;  \\n3. Dokumen persyaratan yang  harus dilengkapi sebagai berikut:  \\na. Surat lamaran diketik komputer dan dita ndatangani di atas materai tempel Rp. 10.000 ,-  \\n(format terlampir ); \\nb. Daftar Riwayat Hidup (format terlampir); \\nc. Foto berwarna terbaru ukuran 4 x 6 cm dengan latar belakang me rah sebanyak 2 (dua) \\nlembar ; \\nd. Foto copy Kartu Tanda Penduduk;  \\ne. Foto copy SK Kenaikan Pangkat terakhir;  \\nf. Foto copy SK Jabatan  (mulai pengangkatan PNS samp ai dengan jab atan terakhir ); \\ng. Foto copy SK Pengangkatan pertama kali dalam Jabatan A dministr ator (Eselon III) atau \\nSK Jabatan Fungsional jenjang Ahli Madya;  \\nh. Foto copy Sertifikat Pelatihan Kepe mimpinan Administrator  bagi pelamar yang ber asal \\ndari Pejabat Administrator ; \\ni. Foto copy Sertifikat Pelatihan  Teknis / Fungsiona l yang pernah diikuti;  \\nj. Foto copy Ijazah Pendi dikan Formal Sarja na S.1 atau D iploma IV, dan ijazah S.2/S.3 jika \\nada; \\nk. Foto copy Dokumen Evaluasi Kinerja Pegawai / Sasaran Kinerja Pegawai 2 (d ua) tahun \\nterakhir (tahun 2022 dan tahun 202 3); \\nl. Surat keterangan tidak sedang menjalani hukuman disiplin, baik tingkat sedang maupun \\nberat dan/a tau tidak sedang dalam proses pemeriksaan pelanggaran  disiplin, baik \\ntingkat sedang maupun berat  (format terlampir ); \\nm. Surat pernyataan  tidak pernah dijatuhi hukuman pidana dengan status sebagai \\ntersangka atau terdakwa atau ti dak sedang me njalani proses perkara pidana  di atas \\nmaterai tempel Rp. 10.000, - (format terlampi r); \\nn. Tanda bukti  Laporan Harta Kekayaan  Penyelenggara Negara (LHK PN) Tahun 2023 \\nbagi pe jabat wajib lapor LHKPN  atau Bukti Penerimaan Elektronik (BPE)  sebagai tanda \\npelaporan Surat Pemberi tahuan (SPT) Tahunan Tahun 2023 bagi pejabat non wajib \\nlapor LHKPN ; \\no. Surat persetujuan atau rekomendasi tertulis dari Pejabat Pembina Kepegawaian (format \\nterlampir);  \\np. Surat pe rnyataan Pakta Integritas yang telah  ditandatangani oleh pelamar  di atas \\nmaterai tempel Rp. 10.000, - (format terlampi r).'),\n",
       " Document(metadata={'source': './pengumuman.pdf', 'page': 3}, page_content='4. Berkas lamaran lengkap dimasukkan ke dalam amplop folio yang tertutup dan dikirimkan  \\npaling lambat tanggal 5 Februari  2024 pukul 16.00 WIB kepada :  \\nPANITIA SELEKSI TERBUKA PENGISIAN JPT PRATAMA  \\nDI LINGK UNGAN PEMERINTAH KABUPATEN PROBOLING GO TAHUN 202 4 \\nc.q. SEKRETAR IAT PANSEL JPT PRATAMA KAB UPATEN  PROBOLINGGO  \\nd/a BADAN KEPEGAWAIAN DAN PENGEMBANGAN SUMBER DAYA MANUSIA  \\n KABUPATEN  PROBOLINGGO  \\nJalan Raya Panglima Sudirman No. 134 Lantai 2 Kant or Bupati Prob olinggo  \\nKRAKSAAN - KABUPATEN  PROBOLINGGO Kode Pos  67282  \\n \\n5. Khusus bagi pelamar dari luar Pemerintah Kabupaten Probolinggo, lamaran dapat dikirim \\nmelalui jasa pengiriman dan diterima panitia paling lam bat tanggal 5 Februari  2024 pukul \\n16.00 WIB;  dan \\n6. Berka s yang telah dikirimkan bersi fat final (tidak boleh diperbarui / diganti) ,  menjadi mili k \\nPanitia dan tidak boleh d iminta kembali . \\n \\nD. JADWAL PENDAFTARAN DAN SELEKSI  \\n \\nNo. Kegiatan  Waktu Pelaksanaan  \\n1 Pengumuman dan Pendaftaran Seleksi Terbuka  22 Jan  - 5 Feb 2024  \\n(15 hari kalender)  \\n2 Seleksi Administrasi dan Penelusuran Rekam Jejak  23 Januari - 6 Februari \\n2024  \\n3 Peng umuman hasil Seleksi Administrasi  7 Februari 2024  \\n4 Penilaian Kompetensi Manajerial dan S osial Kultural  \\n(Assessment ) 12, 13 dan 1 5 Februari \\n2024  \\n5 Penulisan Makalah  20 Februari 2024  \\n6 Pengumuman hasil Penilaian Komp etensi Manajerial dan \\nSosial Kultural ( Assessment ) 23 Feb ruari 2024  \\n7 Seleksi Wawancara Kompetensi Teknis  26 - 28 Februari 2024  \\n8 Pengumuman 3 (tiga) orang calon JPT Pratama terbaik  4 Maret 2024  \\n  Catatan : \\nJadwal kegiatan sewaktu -waktu dapat berubah dan akan diumumkan melalui website  \\nPemer intah Kabupaten Probolinggo dengan alamat https://probolinggokab .go.id  dan website  \\nBKPSDM Kabupaten Probolinggo https://bkpsd m.probolinggokab.go.id  \\n \\nE. KETENTUAN  LAIN-LAIN  \\n1. Dalam pelaksanaan seleksi ini TIDAK DIKENAKAN BIAYA atau PUNGUTAN dalam bentuk  \\napapun;  \\n2. Pelamar dapat mendaftar  maksimal 2 (dua) formasi Jabatan Pimpi nan Tinggi Pratama ; \\n3. Informasi selengkapnya mengenai persyaratan dan kelengkapan administrasi pe ndaftaran \\ndapat dilihat dan di-download melalui website  Pemerintah Kabupaten P robolinggo dengan \\nalamat https://probolinggokab .go.id  dan website  BKPSDM Kabupaten Probolinggo \\nhttps://bkpsdm.probolinggokab .go.id  atau m enghubungi WhatsApp  Sekretariat Pansel JPT \\nPratama Kabupaten Probolinggo  Tahun 2024 di nomor 0821 4168 6321  pada jam kerja ;'),\n",
       " Document(metadata={'source': './pengumuman.pdf', 'page': 4}, page_content='4. Setiap perkembangan tahapan seleksi dan pengumuman akan diberitahukan melalui\\nwebsite Pemerintah Kabupaten Probolinggo dengan alamat https.//probolinggokab.go.id\\ndan websife BKPSDM Kabupaten Probolinggo https://bkpsdm.probolinggokab.go.id;\\n5. Pelamar harus berperan aktif mengikuti perkembangan informasi tahapan seleksi yang\\ndapat dilihat melalui website Pemerintah Kabupaten Probolinggo dengan alamat\\nhftps://prabolinggokab.go.id dan website BKPSDM Kabupaten Probolinggo\\nhttps: //b k psd m. Bro b ol i ng g ak a b ga. i d;\\n6. Kelalaian pelamar tidak mengikuti perkembangan informasi menjadi tanggung jawab\\npelamar;\\n7. Apabila dikemudian hari diketahui pelamar memberikan data/keterangan yang tidak benar\\nmaka Panitia Seleksi berhak membatalkan hasilseleksi; dan\\n8. Keputusan Panitia Seleksi Terbuka Pengisian Jabatan Pimpinan Tinggi Pratama di\\nLingkungan Pemerintah Kabupaten Probolinggo bersifat mutlak dan tidak dapat diganggu\\ngugat.\\nProbolingg o, 22 Januan 2A24\\nPanitia Seleksi Terbuka Pengisian JPT Pratama\\nrnggo\\nMuda\\n198903 1 009 N')]"
      ]
     },
     "execution_count": 6,
     "metadata": {},
     "output_type": "execute_result"
    }
   ],
   "source": [
    "from langchain_community.document_loaders import PyPDFLoader\n",
    "\n",
    "loader = PyPDFLoader(\"./pengumuman.pdf\")\n",
    "pages = loader.load_and_split()\n",
    "pages"
   ]
  },
  {
   "cell_type": "code",
   "execution_count": 7,
   "metadata": {},
   "outputs": [
    {
     "name": "stderr",
     "output_type": "stream",
     "text": [
      "c:\\Users\\lenov\\AppData\\Local\\Programs\\Python\\Python312\\Lib\\site-packages\\pydantic\\_migration.py:283: UserWarning: `pydantic.error_wrappers:ValidationError` has been moved to `pydantic:ValidationError`.\n",
      "  warnings.warn(f'`{import_path}` has been moved to `{new_location}`.')\n"
     ]
    }
   ],
   "source": [
    "from langchain_community.vectorstores import DocArrayInMemorySearch\n",
    "\n",
    "vectorstore = DocArrayInMemorySearch.from_documents(pages, embedding=embeddings)"
   ]
  },
  {
   "cell_type": "code",
   "execution_count": 8,
   "metadata": {},
   "outputs": [
    {
     "data": {
      "text/plain": [
       "[Document(metadata={'source': './pengumuman.pdf', 'page': 2}, page_content='Pimpinan Ting gi Pratama di Lingkungan Pemerintah Kabupaten Probolinggo (Badan \\nKepe gawaian dan Penge mbangan Sumber Daya Manusia Kabupaten Probolinggo) dengan \\nalamat Jl. Raya Panglima Sud irman No. 134 , Lantai 2 Kantor Bupati Proboling go dimulai \\ntanggal 22 Januari  2024 sampai dengan 5 Febr uari 2024 pukul 0 8.00 s.d.16.00 WIB ;  \\n3. Dokumen persyaratan yang  harus dilengkapi sebagai berikut:  \\na. Surat lamaran diketik komputer dan dita ndatangani di atas materai tempel Rp. 10.000 ,-  \\n(format terlampir ); \\nb. Daftar Riwayat Hidup (format terlampir); \\nc. Foto berwarna terbaru ukuran 4 x 6 cm dengan latar belakang me rah sebanyak 2 (dua) \\nlembar ; \\nd. Foto copy Kartu Tanda Penduduk;  \\ne. Foto copy SK Kenaikan Pangkat terakhir;  \\nf. Foto copy SK Jabatan  (mulai pengangkatan PNS samp ai dengan jab atan terakhir ); \\ng. Foto copy SK Pengangkatan pertama kali dalam Jabatan A dministr ator (Eselon III) atau \\nSK Jabatan Fungsional jenjang Ahli Madya;  \\nh. Foto copy Sertifikat Pelatihan Kepe mimpinan Administrator  bagi pelamar yang ber asal \\ndari Pejabat Administrator ; \\ni. Foto copy Sertifikat Pelatihan  Teknis / Fungsiona l yang pernah diikuti;  \\nj. Foto copy Ijazah Pendi dikan Formal Sarja na S.1 atau D iploma IV, dan ijazah S.2/S.3 jika \\nada; \\nk. Foto copy Dokumen Evaluasi Kinerja Pegawai / Sasaran Kinerja Pegawai 2 (d ua) tahun \\nterakhir (tahun 2022 dan tahun 202 3); \\nl. Surat keterangan tidak sedang menjalani hukuman disiplin, baik tingkat sedang maupun \\nberat dan/a tau tidak sedang dalam proses pemeriksaan pelanggaran  disiplin, baik \\ntingkat sedang maupun berat  (format terlampir ); \\nm. Surat pernyataan  tidak pernah dijatuhi hukuman pidana dengan status sebagai \\ntersangka atau terdakwa atau ti dak sedang me njalani proses perkara pidana  di atas \\nmaterai tempel Rp. 10.000, - (format terlampi r); \\nn. Tanda bukti  Laporan Harta Kekayaan  Penyelenggara Negara (LHK PN) Tahun 2023 \\nbagi pe jabat wajib lapor LHKPN  atau Bukti Penerimaan Elektronik (BPE)  sebagai tanda \\npelaporan Surat Pemberi tahuan (SPT) Tahunan Tahun 2023 bagi pejabat non wajib \\nlapor LHKPN ; \\no. Surat persetujuan atau rekomendasi tertulis dari Pejabat Pembina Kepegawaian (format \\nterlampir);  \\np. Surat pe rnyataan Pakta Integritas yang telah  ditandatangani oleh pelamar  di atas \\nmaterai tempel Rp. 10.000, - (format terlampi r).'),\n",
       " Document(metadata={'source': './pengumuman.pdf', 'page': 1}, page_content='Kabupaten/K ota dalam Provinsi Jawa Timur , di Lingkungan Pemerintah Provinsi Jawa \\nTimur , atau instansi lainnya;  \\n3. Memiliki kualifikasi pendidikan paling rend ah Strata I (S .1) atau Diploma IV (D .IV); \\n4. Sedang atau pernah menduduki jabatan Administrator (Jabatan Struktural Eselon III.a) \\nsecara kumulatif minimal selama 2 (dua) tahun atau Jabatan Administrator (Jabatan \\nStruktural Eselon III. b) secara kumulatif minimal selama 3 (tiga) tahun atau Jabatan \\nFungsional jenja ng Ahli Madya secara kumula tif minimal selama 2 (dua) tahun ; \\n5. Memiliki Pangkat (Golongan/Ruang) paling rendah Pembina, (IV/a);  \\n6. Berusia paling tinggi 56 (lima puluh enam) tahun  0 (nol) bulan pada tang gal 28 Juni 2024; \\n7. Diutamakan bagi yang telah mengikuti dan dinyatakan lulus Pelatihan Kepemimpinan \\nAdministrator  atau yang setara bagi Pelamar yang berasal dari Pe jabat Administrator \\n(Jabatan Struktural Eselon III.a dan III.b ); \\n8. Memiliki Kompetensi Teknis, Kompetens i Manajerial, dan Kompetensi Sosial Kultural \\nsesu ai dengan Standar  kompetensi jabatan yang ditetapkan;  \\n9. Memil iki pengalaman Jabatan dalam bidang tugas yang terkait dengan Jabatan yang akan \\ndiduduki secara kumulatif paling kurang selama 5 (lima) tahun ; \\n10. Memiliki R ekam Jejak jabatan, integritas, dan moralitas yan g baik , yang dibuktikan denga n: \\na. Dokumen Evaluasi Kinerja Pegawai / Sasaran  Kinerja Pegawai  tahun 2022 dan tahun \\n2023  minimal bernilai baik ; \\nb. Surat keterangan t idak sedang menjalani hukuman disiplin, baik tingkat sedang \\nmaupun berat dan/atau tidak  sedan g dalam proses pemeriksaan pelanggaran disiplin, \\nbaik tingk at sedang maupun berat;  \\nc. Surat Pernyataan  tidak pernah dijatuhi hukuman pidana dengan status sebagai \\ntersangka atau t erdakwa ata u tidak sedang menjalani proses perka ra pidana ; \\nd. Tanda bukti  Laporan Harta Kekaya an Penyelengg ara Negara (LH KPN) tahun 2023 \\nbagi pejabat wajib lapor LHKPN atau Bukti Penerimaan Elektronik (BPE)  sebaga i \\ntanda pelaporan Surat Pemberitahuan (SPT) Tahunan tahun 2023  bagi pejabat non \\nwajib lapor LHKPN ; \\ne. Surat persetujuan atau rekomendasi tertulis dari Pejabat Pembina Kepeg awaian  \\ninstansin ya; \\nf. Surat pe rnyataan  Pakta Integritas yang telah ditandatangani oleh pelamar . \\n11. Bagi peserta yang masuk dalam 3 (tiga) orang calon JPT Pratama terbaik  harus \\nmenyerahkan Surat Keterangan Sehat Jasmani, Rohani da n surat keterangan bebas \\nnarkoba  dari Dokter  Pemerintah  paling lambat tanggal 7 Maret 2024  kepa da Sekretariat \\nPansel . \\n \\nC. TATA CARA  PENDAFTARAN  DAN KELENGKAPAN DOKUMEN  \\n1. Pengumuman dilaksanakan mulai tanggal 22 Januari 2024  sampai dengan  5 Februari  2024 \\nsecara online  pada website  Pemerintah Kabupaten Probolinggo dengan alamat \\nhttps://probolinggokab .go.id   dan websi te Badan Kepegawaian dan Pengembangan Sumb er \\nDaya Manusia Kabupaten  Probolingg o dengan alam at https://bkpsdm.probolinggokab.go .id; \\n2. Pelamar melakukan pendaftaran di Sekretari at Panitia Seleksi Terbuka Pengisian Jabatan'),\n",
       " Document(metadata={'source': './pengumuman.pdf', 'page': 4}, page_content='4. Setiap perkembangan tahapan seleksi dan pengumuman akan diberitahukan melalui\\nwebsite Pemerintah Kabupaten Probolinggo dengan alamat https.//probolinggokab.go.id\\ndan websife BKPSDM Kabupaten Probolinggo https://bkpsdm.probolinggokab.go.id;\\n5. Pelamar harus berperan aktif mengikuti perkembangan informasi tahapan seleksi yang\\ndapat dilihat melalui website Pemerintah Kabupaten Probolinggo dengan alamat\\nhftps://prabolinggokab.go.id dan website BKPSDM Kabupaten Probolinggo\\nhttps: //b k psd m. Bro b ol i ng g ak a b ga. i d;\\n6. Kelalaian pelamar tidak mengikuti perkembangan informasi menjadi tanggung jawab\\npelamar;\\n7. Apabila dikemudian hari diketahui pelamar memberikan data/keterangan yang tidak benar\\nmaka Panitia Seleksi berhak membatalkan hasilseleksi; dan\\n8. Keputusan Panitia Seleksi Terbuka Pengisian Jabatan Pimpinan Tinggi Pratama di\\nLingkungan Pemerintah Kabupaten Probolinggo bersifat mutlak dan tidak dapat diganggu\\ngugat.\\nProbolingg o, 22 Januan 2A24\\nPanitia Seleksi Terbuka Pengisian JPT Pratama\\nrnggo\\nMuda\\n198903 1 009 N'),\n",
       " Document(metadata={'source': './pengumuman.pdf', 'page': 0}, page_content='P  E  N  G  U  M  U  M  A  N \\nNOMOR :  800.1.2.6/   02  /PANSEL -JPT/20 24 \\n \\nTENTANG  \\nSELEKSI TERBUKA PENGISIAN J ABATAN PIMPINAN TINGGI PRATAMA  \\n DI LINGKUNGAN PEMERINTAH KABUPATEN PROBOLINGGO  \\nTAHUN 20 24 \\n \\nDalam rangka Pengisian Jabatan Pimpinan Tinggi Pratama di Lingkungan Pemerintah  \\nKabupaten Probolinggo  Tahun 2024, sesuai Undang -Undang Nomor 20 Tahun 2023 tentang \\nAparatur Sipil Negara, Peraturan Pemerintah Nomor 11 Tahun 2017 ten tang Manajemen Pegawai \\nNegeri Sipil  sebagaimana telah diubah dengan Peraturan  Pemerintah Nomor 17 Tahun 2020, \\nPeraturan Menteri  Pendayag unaan Aparatur Negara dan Reformasi Birokrasi  Nomor 15 Tahun 2019 \\ntentang  Pengisian Jabatan Pimpinan Tinggi Pratama secara terbuka dan kompetitif di Lingkungan \\nInstansi Pemerintah , maka Pemerintah Kabupaten Probolinggo membuka  kesempatan  kepada \\nPegawai Negeri Sipil  di Lingkungan Pemerintah Kabupaten /Kota  dalam Provinsi Jawa Timur ,  \\nPegawai Negeri Sipil di Lingkungan  Pemerintah Provinsi Jawa Timur  atau instansi lainnya  yang \\nberminat dan memenuhi sy arat untuk mendaftarkan dir i sebagai peserta pada Seleksi Terbuka \\nPengisian Jabatan  Pimpinan Tinggi Pratama di Lingkungan Pemerintah Kabupaten Probolinggo \\nTahun 2024, dengan ketentuan sebagai berikut  : \\n \\nA. FORMASI JABATAN LOWONG  \\n1. Staf Ahli Bidang Ekonomi dan Keuangan Sekretariat Daerah Kabupaten Probolinggo;  \\n2. Staf Ahli Bidang Hukum, Pemerintahan dan Pembangunan Sekretariat Daerah Kabupaten \\nProbolinggo;  \\n3. Staf Ahli Bidang Kemasyarakatan  dan SDM Sekretariat Daerah Kabupaten Probolinggo;  \\n4. Inspektur Kabupaten Probolin ggo; \\n5. Kepala Dinas Komunikas i, Informatika, Statistik dan Pe rsandian Kabupaten Probo linggo;  \\n6. Kepala Dinas Perumahan, Kawasan Permukiman dan Pertanahan Kabupaten Probolinggo;  \\n7. Kepala Dinas Sosial Kabupaten Probolinggo;  \\n8. Kepala Dinas Kepemudaan, Olah Raga dan Pariwisata  Kabupaten Probolinggo ; \\n9. Kepala Dinas Kesehatan Kabupaten Probolinggo; dan  \\n10. Direktur Unit Organisasi Bersifat Khusus Rumah Sakit Umum Daerah Waluyo Jati \\nKabupaten Proboli nggo. \\n \\nB. PERSYARATAN UMUM  \\n1. Warga Negara Indonesia;  \\n2. Berstatus  Pegawai Negeri Sipil di Lingkungan Kabupaten Pro bolinggo, Pemerintah \\nPEMERINTAH KABUPATEN PROBOLINGGO  \\nPANITIA SELEKSI TERBUKA  \\nPENGISIAN JABATAN PIMPINAN TINGGI PRATAMA  \\nJalan Raya Panglima Sudirman No. 134 Telp.  (0335) 840155 3 \\nKOTA KRAKSAAN - KABUPATEN PROBOLINGGO Kode Pos 67282  \\nWebsite : www.bk psdm .probolinggokab.go.id , E-mail : bkpsdm @probolinggokab.go.id')]"
      ]
     },
     "execution_count": 8,
     "metadata": {},
     "output_type": "execute_result"
    }
   ],
   "source": [
    "retriever = vectorstore.as_retriever()\n",
    "retriever.invoke(\"pengumuman\")"
   ]
  }
 ],
 "metadata": {
  "kernelspec": {
   "display_name": "Python 3",
   "language": "python",
   "name": "python3"
  },
  "language_info": {
   "codemirror_mode": {
    "name": "ipython",
    "version": 3
   },
   "file_extension": ".py",
   "mimetype": "text/x-python",
   "name": "python",
   "nbconvert_exporter": "python",
   "pygments_lexer": "ipython3",
   "version": "3.12.5"
  }
 },
 "nbformat": 4,
 "nbformat_minor": 2
}
