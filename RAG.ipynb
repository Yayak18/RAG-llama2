{
 "cells": [
  {
   "cell_type": "markdown",
   "metadata": {},
   "source": [
    "## RAG menggunakan Llama2 melalui Ollama\n",
    "\n",
    "### Setup dan Impor Library"
   ]
  },
  {
   "cell_type": "code",
   "execution_count": 1,
   "metadata": {},
   "outputs": [
    {
     "data": {
      "text/plain": [
       "True"
      ]
     },
     "execution_count": 1,
     "metadata": {},
     "output_type": "execute_result"
    }
   ],
   "source": [
    "import os\n",
    "from dotenv import load_dotenv\n",
    "from langchain_community.llms import Ollama\n",
    "from langchain_community.embeddings import OllamaEmbeddings\n",
    "from langchain_core.output_parsers import StrOutputParser\n",
    "from langchain.prompts import PromptTemplate\n",
    "from langchain_community.document_loaders import PyPDFLoader\n",
    "from langchain_community.vectorstores import DocArrayInMemorySearch\n",
    "from langchain.chains import RetrievalQA\n",
    "\n",
    "load_dotenv()"
   ]
  },
  {
   "cell_type": "markdown",
   "metadata": {},
   "source": [
    "Pada bagian ini, kita mengimpor semua library yang diperlukan untuk implementasi RAG. Kita menggunakan `langchain_community` untuk akses ke Ollama dan komponen lainnya."
   ]
  },
  {
   "cell_type": "code",
   "execution_count": 2,
   "metadata": {},
   "outputs": [],
   "source": [
    "MODEL = \"llama2\"\n",
    "model = Ollama(model=MODEL)\n",
    "embeddings = OllamaEmbeddings(model=MODEL)"
   ]
  },
  {
   "cell_type": "markdown",
   "metadata": {},
   "source": [
    "Di sini, kita mengatur model Llama2 dan embeddings menggunakan Ollama. Pastikan Anda telah menginstal dan menjalankan Ollama dengan model Llama2 di mesin lokal Anda.\n",
    "\n",
    "### Membuat Template Prompt"
   ]
  },
  {
   "cell_type": "code",
   "execution_count": 3,
   "metadata": {},
   "outputs": [],
   "source": [
    "template = \"\"\"\n",
    "Answer the question based on the context below. If you can't \n",
    "answer the question, reply \"Maaf, terkait ini Saya belum dapat memberikan Anda jawaban\".\n",
    "\n",
    "Context: {context}\n",
    "Question: {question}\n",
    "\n",
    "Answer:\n",
    "\"\"\"\n",
    "prompt = PromptTemplate.from_template(template)"
   ]
  },
  {
   "cell_type": "markdown",
   "metadata": {},
   "source": [
    "Template prompt ini akan digunakan untuk memberi instruksi kepada model bagaimana cara menjawab pertanyaan berdasarkan konteks yang diberikan.\n",
    "\n",
    "### Memuat dan Memproses Dokumen"
   ]
  },
  {
   "cell_type": "code",
   "execution_count": 4,
   "metadata": {},
   "outputs": [
    {
     "name": "stderr",
     "output_type": "stream",
     "text": [
      "c:\\Users\\lenov\\AppData\\Local\\Programs\\Python\\Python312\\Lib\\site-packages\\pydantic\\_migration.py:283: UserWarning: `pydantic.error_wrappers:ValidationError` has been moved to `pydantic:ValidationError`.\n",
      "  warnings.warn(f'`{import_path}` has been moved to `{new_location}`.')\n"
     ]
    }
   ],
   "source": [
    "loader = PyPDFLoader(\"./letterC.pdf\")\n",
    "pages = loader.load_and_split()\n",
    "\n",
    "# Vector store and retriever setup\n",
    "vectorstore = DocArrayInMemorySearch.from_documents(pages, embedding=embeddings)\n",
    "retriever = vectorstore.as_retriever()"
   ]
  },
  {
   "cell_type": "markdown",
   "metadata": {},
   "source": [
    "Pada langkah ini, kita memuat dokumen PDF, membaginya menjadi halaman, dan kemudian membuat vector store dari dokumen tersebut. Retriever digunakan untuk mengambil bagian yang relevan dari dokumen.\n",
    "\n",
    "### Membuat Chain RetrievalQA"
   ]
  },
  {
   "cell_type": "code",
   "execution_count": 5,
   "metadata": {},
   "outputs": [],
   "source": [
    "# Create RetrievalQA chain\n",
    "qa_chain = RetrievalQA.from_chain_type(\n",
    "    llm=model,\n",
    "    chain_type=\"stuff\",\n",
    "    retriever=retriever,\n",
    "    return_source_documents=True,\n",
    "    chain_type_kwargs={\"prompt\": prompt}\n",
    ")\n",
    "\n",
    "# Function to ask questions\n",
    "def ask_question(question):\n",
    "    result = qa_chain({\"query\": question})\n",
    "    return result[\"result\"], result[\"source_documents\"]"
   ]
  },
  {
   "cell_type": "markdown",
   "metadata": {},
   "source": [
    "RetrievalQA chain menggabungkan proses retrieval dan generation. Ini akan mengambil bagian yang relevan dari dokumen dan menggunakannya untuk menjawab pertanyaan.\n",
    "\n",
    "### Fungsi untuk Mengajukan Pertanyaan"
   ]
  },
  {
   "cell_type": "code",
   "execution_count": 6,
   "metadata": {},
   "outputs": [
    {
     "name": "stderr",
     "output_type": "stream",
     "text": [
      "C:\\Users\\lenov\\AppData\\Local\\Temp\\ipykernel_25428\\297317597.py:12: LangChainDeprecationWarning: The method `Chain.__call__` was deprecated in langchain 0.1.0 and will be removed in 1.0. Use invoke instead.\n",
      "  result = qa_chain({\"query\": question})\n"
     ]
    },
    {
     "name": "stdout",
     "output_type": "stream",
     "text": [
      "Question: Apa isi dari letterC?\n",
      "Answer: The contents of Letter C (Surat Kutipan Letter C Desa) include:\n",
      "\n",
      "1. Nama dan Nomor Urut Pemilik: The name and serial number of the landowner.\n",
      "2. Nomor dan Bagian Persil: The lot number and the classification of the land (e.g. Persil 1, Persil 4, etc.).\n",
      "3. Nama Desa: The name of the village.\n",
      "4. Tgl: The date.\n",
      "5. Mengetahui: The signature of the Head of the Village or Kelurahan.\n",
      "6. Nama Kepala Desa: The name of the Head of the Village or Kelurahan.\n",
      "7. Fungsi Buku Letter C Desa: The function of the Letter C book in relation to the Land Record Book as a legal document.\n",
      "8. Daftar Pustaka: A list of reference books, including \"Kamus Hukum\" by Andi Hamzah, \"Majalah Hukum Pro Justitia\" by Andreas Lumme, \"Pendaftaran Tanah di Indonesia\" by AP Perlindungan II, and \"Hukum Agraria Nasional\" by Boedi Harsono.\n",
      "\n",
      "The Letter C book is an important document that serves as a proof of ownership of land and can be used as a basis for changes in land ownership due to inheritance, marriage, or other reasons.\n",
      "\n",
      "Sources:\n",
      "- 5 : Jurnal Ilm iah FENOMENA, Volume X V, Nomor 2, November 2017: 1665 -1673  \n",
      " \n",
      " \n",
      "  \n",
      " 1670  \n",
      " Metode ana...\n",
      "- 7 : Jurnal Ilm iah FENOMENA, Volume X V, Nomor 2, November 2017: 1665 -1673  \n",
      " \n",
      " \n",
      "  \n",
      " 1672  \n",
      "  \n",
      "Selanjut...\n",
      "- 6 : Jurnal Ilm iah FENOMENA, Volume X V, Nomor 2, November 2017: 1665 -1673  \n",
      " \n",
      " \n",
      "  \n",
      " 1671  \n",
      " Contoh :  ...\n",
      "- 8 : Jurnal Ilm iah FENOMENA, Volume X V, Nomor 2, November 2017: 1665 -1673  \n",
      " \n",
      " \n",
      "  \n",
      " 1673  \n",
      " 5. PENUTUP...\n"
     ]
    }
   ],
   "source": [
    "question = \"Apa isi dari letterC?\"\n",
    "answer, sources = ask_question(question)\n",
    "print(f\"Question: {question}\")\n",
    "print(f\"Answer: {answer}\")\n",
    "print(\"\\nSources:\")\n",
    "for source in sources:\n",
    "    print(f\"- {source.metadata['page']} : {source.page_content[:100]}...\")"
   ]
  },
  {
   "cell_type": "markdown",
   "metadata": {},
   "source": [
    "### Catatan Penting\n",
    "\n",
    "1. Performa: Kecepatan pemrosesan akan bergantung pada spesifikasi hardware, disini kita (hanya) menggunakan CPU Core i5.\n",
    "2. Penggunaan Memori: Llama2 70B adalah model besar. Operasionalnya membutuhkan RAM yang cukup.\n",
    "3. Kualitas Output: Hasil mungkin berbeda dari GPT-3.5-turbo (OpenAI API), tergantung pada versi model.\n",
    "4. Keamanan: Semua pemrosesan dilakukan secara lokal.\n",
    "\n",
    "### Langkah Selanjutnya\n",
    "\n",
    "- Minimalisir halusinasi (buku letter c tidak memiliki daftar pustaka)\n",
    "- Implementasikan caching untuk meningkatkan kinerja.\n",
    "- Eksperimen dengan ukuran konteks yang berbeda.\n",
    "- Tambahkan logging untuk monitoring performa.\n",
    "- Pertimbangkan penggunaan versi Llama2/model lain yang lebih kecil jika mengalami masalah performa atau memori.\n",
    "- Perbaikan retrieval > generation"
   ]
  }
 ],
 "metadata": {
  "kernelspec": {
   "display_name": "Python 3",
   "language": "python",
   "name": "python3"
  },
  "language_info": {
   "codemirror_mode": {
    "name": "ipython",
    "version": 3
   },
   "file_extension": ".py",
   "mimetype": "text/x-python",
   "name": "python",
   "nbconvert_exporter": "python",
   "pygments_lexer": "ipython3",
   "version": "3.12.5"
  }
 },
 "nbformat": 4,
 "nbformat_minor": 2
}
